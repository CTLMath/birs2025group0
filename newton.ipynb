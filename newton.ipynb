{
 "cells": [
  {
   "cell_type": "markdown",
   "id": "d2e49278-b526-4d34-8b8c-755563a3e45e",
   "metadata": {},
   "source": [
    "# MATH 100 Differential Calculus\n",
    "\n",
    "## Know your audience\n",
    "\n",
    "* First year students in engineering\n",
    "* 500 students in lecture hall\n",
    "* All students have access to Syzygy\n",
    "* No prior knowledge of Python or Jupyter\n",
    "\n",
    "## Big Idea and Essential Questions\n",
    "\n",
    "* Most equations are impossible to solve but we can always use Newton's method to approximate\n",
    "* There is a formula for the roots of a degree 2, 3 and 4 polynomial. What is the formula for degree 5 polynomial?\n",
    "\n",
    "## Learning Goals\n",
    "\n",
    "* Approximate solutions of $f(x) = 0$ using Newton's method\n",
    "* Define a Python function which represents a mathematical function\n",
    "* Assign values to variables\n",
    "* Construct mathematical expressions with variables\n",
    "* Decompose a mathematical expression into several simpler expressions using variables"
   ]
  },
  {
   "cell_type": "markdown",
   "id": "86761af3-9eb2-4154-8087-4ae54c82c978",
   "metadata": {},
   "source": [
    "## Instructions\n",
    "\n",
    "Approximate all solutions of $x^5 - x - 1 = 0$.\n",
    "\n",
    "$$\n",
    "x_{n+1} = x_n - \\frac{f(x_n)}{f'(x_n)}\n",
    "$$"
   ]
  },
  {
   "cell_type": "code",
   "execution_count": 1,
   "id": "c7f0fc1f-11b0-449d-a541-b26163005251",
   "metadata": {},
   "outputs": [
    {
     "name": "stdout",
     "output_type": "stream",
     "text": [
      "1.25\n"
     ]
    }
   ],
   "source": [
    "f = lambda x: x**5 - x - 1\n",
    "df = lambda x: 5*x**4 - 1\n",
    "\n",
    "x0 = 1\n",
    "x1 = x0 - f(x0)/df(x0)\n",
    "print(x1)"
   ]
  },
  {
   "cell_type": "code",
   "execution_count": 2,
   "id": "44b72dc3-2d9d-4c2e-9c9c-1231f237cb90",
   "metadata": {},
   "outputs": [
    {
     "name": "stdout",
     "output_type": "stream",
     "text": [
      "1.1784593935169048\n"
     ]
    }
   ],
   "source": [
    "x2 = x1 - f(x1)/df(x1)\n",
    "print(x2)"
   ]
  },
  {
   "cell_type": "code",
   "execution_count": 3,
   "id": "39835f58-e235-4aae-be6d-056e3a3839e6",
   "metadata": {},
   "outputs": [
    {
     "name": "stdout",
     "output_type": "stream",
     "text": [
      "1.16753738939611\n"
     ]
    }
   ],
   "source": [
    "x3 = x2 - f(x2)/df(x2)\n",
    "print(x3)"
   ]
  },
  {
   "cell_type": "code",
   "execution_count": null,
   "id": "31e11ec5-4646-452a-9c4e-9cef22ba2cfa",
   "metadata": {},
   "outputs": [],
   "source": []
  }
 ],
 "metadata": {
  "kernelspec": {
   "display_name": "Python 3 (ipykernel)",
   "language": "python",
   "name": "python3"
  },
  "language_info": {
   "codemirror_mode": {
    "name": "ipython",
    "version": 3
   },
   "file_extension": ".py",
   "mimetype": "text/x-python",
   "name": "python",
   "nbconvert_exporter": "python",
   "pygments_lexer": "ipython3",
   "version": "3.12.10"
  }
 },
 "nbformat": 4,
 "nbformat_minor": 5
}
