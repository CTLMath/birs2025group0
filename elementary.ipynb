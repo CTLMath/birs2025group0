{
 "cells": [
  {
   "cell_type": "markdown",
   "id": "23437dfc-1ddf-4b37-b25d-18c73790446b",
   "metadata": {},
   "source": [
    "# We Can Always Approximate!\n",
    "\n",
    "## Know Your Audience (and Other Things)\n",
    "\n",
    "* MATH 221 at UBC: First and second year students in science and commerce\n",
    "* 500 students in a lecture hall\n",
    "* All students have access to Syzygy\n",
    "* No prior knowledge of Python or Jupyter\n",
    "\n",
    "## Big Idea and Essential Questions\n",
    "\n",
    "* Rows operations isolate variables so that we can solve!\n",
    "* Why do we follow the steps of Gaussian elimination? Can we do things in a different way?\n",
    "\n",
    "## Learning Goals\n",
    "\n",
    "* Use a function given a description of its input and output values\n",
    "* Construct an array object to represent a mathematical object such as a sequence, vector or matrix\n",
    "* Access entries in an array using index syntax\n",
    "* Inspect an array by printing values to output and/or using a plot"
   ]
  },
  {
   "cell_type": "code",
   "execution_count": 1,
   "id": "223043db-3d0b-4af2-a366-0996eafa34e5",
   "metadata": {},
   "outputs": [
    {
     "name": "stdout",
     "output_type": "stream",
     "text": [
      "Welcome to the UBC MATH 100 development environment!\n",
      "Mathematical functions: sin, cos, exp, log\n",
      "Plot the graph y = f(x) over [a,b] with graph(f,a,b)\n",
      "Create a matrix from a list of rows of numbers such as matrix([[a,b],[c,d]])\n"
     ]
    }
   ],
   "source": [
    "from ubcmath import *"
   ]
  },
  {
   "cell_type": "markdown",
   "id": "bd9f83b1-28f4-486c-94fe-ae6068e05943",
   "metadata": {},
   "source": [
    "## Exercise 1\n",
    "\n",
    "The following functions perform elementary row operations."
   ]
  },
  {
   "cell_type": "code",
   "execution_count": 10,
   "id": "d27d8524-0ec7-4211-a36f-afdc12a3a125",
   "metadata": {},
   "outputs": [],
   "source": [
    "def addrows(A,c,i,j):\n",
    "    \"Add c times row i to row j.\"\n",
    "    B = A.copy()\n",
    "    B[j,:] = c*B[i,:] + B[j,:]\n",
    "    return B\n",
    "\n",
    "def switchrows(A,i,j):\n",
    "    \"Switch rows i and j.\"\n",
    "    B = A.copy()\n",
    "    rowi = A[i,:]\n",
    "    rowj = A[j,:]\n",
    "    B[j,:] = rowi\n",
    "    B[i,:] = rowj\n",
    "    return B\n",
    "\n",
    "def scalerow(A,c,i):\n",
    "    \"Multiply row i by c.\"\n",
    "    B = A.copy()\n",
    "    B[i,:] = c*B[i,:]\n",
    "    return B"
   ]
  },
  {
   "cell_type": "markdown",
   "id": "a470beea-73b8-4e04-b251-501943a5e4e5",
   "metadata": {},
   "source": [
    "Apply the steps of Gaussian elimination to find the reduced row echelone form of the augmented matrix:\n",
    "\n",
    "$$\n",
    "\\left[ \\begin{array}{rrr|r} 1 & 2 & \\phantom{+}3 & 1 \\\\ 2 & -3 & 1 & -1 \\\\ -1 & 1 & 0 & 2 \\end{array} \\right]\n",
    "$$"
   ]
  },
  {
   "cell_type": "code",
   "execution_count": 12,
   "id": "c9900d20-1592-4fa7-ac7f-75c068b8d61a",
   "metadata": {},
   "outputs": [
    {
     "name": "stdout",
     "output_type": "stream",
     "text": [
      "[[ 1.  2.  3.  1.]\n",
      " [ 2. -3.  1. -1.]\n",
      " [-1.  1.  0.  2.]]\n"
     ]
    }
   ],
   "source": [
    "A = matrix([[1,2,3,1],[2,-3,1,-1],[-1,1,0,2]])\n",
    "print(A)"
   ]
  },
  {
   "cell_type": "code",
   "execution_count": 13,
   "id": "fd899344-809b-41ee-9a4e-694ff7c3fff7",
   "metadata": {},
   "outputs": [
    {
     "name": "stdout",
     "output_type": "stream",
     "text": [
      "[[ 1.  2.  3.  1.]\n",
      " [ 0. -7. -5. -3.]\n",
      " [-1.  1.  0.  2.]]\n"
     ]
    }
   ],
   "source": [
    "A1 = addrows(A,-2,0,1)\n",
    "print(A1)"
   ]
  },
  {
   "cell_type": "code",
   "execution_count": 14,
   "id": "ab901bc6-3a00-4348-b24a-55d31f8f6041",
   "metadata": {},
   "outputs": [
    {
     "name": "stdout",
     "output_type": "stream",
     "text": [
      "[[ 1.  2.  3.  1.]\n",
      " [ 0. -7. -5. -3.]\n",
      " [ 0.  3.  3.  3.]]\n"
     ]
    }
   ],
   "source": [
    "A2 = addrows(A1,1,0,2)\n",
    "print(A2)"
   ]
  },
  {
   "cell_type": "code",
   "execution_count": 15,
   "id": "67ef89c1-2eb1-46d7-884f-ac98f7dd4e06",
   "metadata": {},
   "outputs": [
    {
     "name": "stdout",
     "output_type": "stream",
     "text": [
      "[[1.         2.         3.         1.        ]\n",
      " [0.         1.         0.71428571 0.42857143]\n",
      " [0.         3.         3.         3.        ]]\n"
     ]
    }
   ],
   "source": [
    "A3 = scalerow(A2,-1/7,1)\n",
    "print(A3)"
   ]
  },
  {
   "cell_type": "code",
   "execution_count": 16,
   "id": "a5b81539-0bcb-4f0b-a4cf-a27ce684b397",
   "metadata": {},
   "outputs": [
    {
     "name": "stdout",
     "output_type": "stream",
     "text": [
      "[[1.         2.         3.         1.        ]\n",
      " [0.         1.         0.71428571 0.42857143]\n",
      " [0.         0.         0.85714286 1.71428571]]\n"
     ]
    }
   ],
   "source": [
    "A4 = addrows(A3,-3,1,2)\n",
    "print(A4)"
   ]
  },
  {
   "cell_type": "code",
   "execution_count": 17,
   "id": "f909c46d-9769-4978-847f-b5c013c745f6",
   "metadata": {},
   "outputs": [
    {
     "name": "stdout",
     "output_type": "stream",
     "text": [
      "0.8571428571428577\n"
     ]
    }
   ],
   "source": [
    "c = A4[2,2]\n",
    "print(c)"
   ]
  },
  {
   "cell_type": "code",
   "execution_count": 18,
   "id": "1db4cf61-f7e8-4e65-876f-48540b78f0a2",
   "metadata": {},
   "outputs": [
    {
     "name": "stdout",
     "output_type": "stream",
     "text": [
      "[[1.         2.         3.         1.        ]\n",
      " [0.         1.         0.71428571 0.42857143]\n",
      " [0.         0.         1.         2.        ]]\n"
     ]
    }
   ],
   "source": [
    "A5 = scalerow(A4,1/c,2)\n",
    "print(A5)"
   ]
  },
  {
   "cell_type": "code",
   "execution_count": 20,
   "id": "e704d47f-8ff1-4bf7-be39-1971be202b7e",
   "metadata": {},
   "outputs": [
    {
     "name": "stdout",
     "output_type": "stream",
     "text": [
      "[[ 1.  2.  3.  1.]\n",
      " [ 0.  1.  0. -1.]\n",
      " [ 0.  0.  1.  2.]]\n"
     ]
    }
   ],
   "source": [
    "A6 = addrows(A5,-A5[1,2],2,1)\n",
    "print(A6)"
   ]
  },
  {
   "cell_type": "code",
   "execution_count": 21,
   "id": "07aff66d-10ad-4007-92e0-1bc7017f7a92",
   "metadata": {},
   "outputs": [
    {
     "name": "stdout",
     "output_type": "stream",
     "text": [
      "[[ 1.  2.  0. -5.]\n",
      " [ 0.  1.  0. -1.]\n",
      " [ 0.  0.  1.  2.]]\n"
     ]
    }
   ],
   "source": [
    "A7 = addrows(A6,-A6[0,2],2,0)\n",
    "print(A7)"
   ]
  },
  {
   "cell_type": "code",
   "execution_count": 22,
   "id": "c2bf5add-7678-4b89-9a10-17446c71b1c3",
   "metadata": {},
   "outputs": [
    {
     "name": "stdout",
     "output_type": "stream",
     "text": [
      "[[ 1.  0.  0. -3.]\n",
      " [ 0.  1.  0. -1.]\n",
      " [ 0.  0.  1.  2.]]\n"
     ]
    }
   ],
   "source": [
    "A8 = addrows(A7,-A7[0,1],1,0)\n",
    "print(A8)"
   ]
  },
  {
   "cell_type": "markdown",
   "id": "92320219-5fcc-4f89-b79c-dc4603309357",
   "metadata": {},
   "source": [
    "**Check!**"
   ]
  },
  {
   "cell_type": "code",
   "execution_count": 24,
   "id": "b0a5911f-7f04-46e7-8692-5bd2f38e0bcf",
   "metadata": {},
   "outputs": [
    {
     "data": {
      "text/plain": [
       "matrix([[ 1.],\n",
       "        [-1.],\n",
       "        [ 2.]])"
      ]
     },
     "execution_count": 24,
     "metadata": {},
     "output_type": "execute_result"
    }
   ],
   "source": [
    "A[:,:3] @ A8[:,-1]"
   ]
  },
  {
   "cell_type": "code",
   "execution_count": 25,
   "id": "c2dc6007-c232-4c0f-a7b9-0609db36eb89",
   "metadata": {},
   "outputs": [
    {
     "data": {
      "text/plain": [
       "matrix([[ 1.],\n",
       "        [-1.],\n",
       "        [ 2.]])"
      ]
     },
     "execution_count": 25,
     "metadata": {},
     "output_type": "execute_result"
    }
   ],
   "source": [
    "A[:,-1]"
   ]
  },
  {
   "cell_type": "markdown",
   "id": "68ffb3ae-760d-420c-af51-363e9b8f1dad",
   "metadata": {},
   "source": [
    "Success!"
   ]
  }
 ],
 "metadata": {
  "kernelspec": {
   "display_name": "Python 3 (ipykernel)",
   "language": "python",
   "name": "python3"
  },
  "language_info": {
   "codemirror_mode": {
    "name": "ipython",
    "version": 3
   },
   "file_extension": ".py",
   "mimetype": "text/x-python",
   "name": "python",
   "nbconvert_exporter": "python",
   "pygments_lexer": "ipython3",
   "version": "3.13.2"
  }
 },
 "nbformat": 4,
 "nbformat_minor": 5
}
